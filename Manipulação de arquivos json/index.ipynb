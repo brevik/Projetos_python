{
 "cells": [
  {
   "cell_type": "markdown",
   "metadata": {},
   "source": [
    "## Aprendendo a manipular arquivos .json no Python"
   ]
  },
  {
   "cell_type": "code",
   "execution_count": 30,
   "metadata": {},
   "outputs": [
    {
     "name": "stdout",
     "output_type": "stream",
     "text": [
      "Medium\n",
      "{'size': 'Medium', 'price': 15.67, 'toppings': ['Mushrooms', 'Extra Cheese', 'Pepperoni', 'Basil'], 'client': {'name': 'Jane Doe', 'phone': '455-344-234', 'email': 'janedoe@email.com'}}\n"
     ]
    }
   ],
   "source": [
    "import json\n",
    "\n",
    "#Da string em JSON ao dicionário em Python\n",
    "data_JSON =  \"\"\"\n",
    "{\n",
    "\t\"size\": \"Medium\",\n",
    "\t\"price\": 15.67,\n",
    "\t\"toppings\": [\"Mushrooms\", \"Extra Cheese\", \"Pepperoni\", \"Basil\"],\n",
    "\t\"client\": {\n",
    "\t\t\"name\": \"Jane Doe\",\n",
    "\t\t\"phone\": \"455-344-234\",\n",
    "\t\t\"email\": \"janedoe@email.com\"\n",
    "\t}\n",
    "}\n",
    "\"\"\"\n",
    "data_dict = json.loads(data_JSON)\n",
    "\n",
    "print(data_dict[\"size\"])\n",
    "print(data_dict)\n",
    "\n",
    "\n"
   ]
  },
  {
   "cell_type": "code",
   "execution_count": 36,
   "metadata": {},
   "outputs": [
    {
     "name": "stdout",
     "output_type": "stream",
     "text": [
      "{\n",
      "    \"age\": 56,\n",
      "    \"eye_color\": \"green\",\n",
      "    \"id\": \"45355\",\n",
      "    \"name\": \"Nora\",\n",
      "    \"wears_glasses\": false\n",
      "}\n"
     ]
    }
   ],
   "source": [
    "#Do dicionário em Python para a string em JSON\n",
    "\n",
    "# Dicionário em Python\n",
    "client = {\n",
    "    \"name\": \"Nora\",\n",
    "    \"age\": 56,\n",
    "    \"id\": \"45355\",\n",
    "    \"eye_color\": \"green\",\n",
    "    \"wears_glasses\": False\n",
    "}\n",
    "\n",
    "# Obter uma string formatada em JSON\n",
    "#chaves em ordem alfabetica \"sort_keys=True\" \n",
    "#indentação \"indent=4\"\n",
    "client_JSON = json.dumps(client, indent=4, sort_keys=True)\n",
    "print(client_JSON)"
   ]
  },
  {
   "cell_type": "markdown",
   "metadata": {},
   "source": [
    " ## JSON e arquivos"
   ]
  },
  {
   "cell_type": "code",
   "execution_count": 49,
   "metadata": {},
   "outputs": [
    {
     "name": "stdout",
     "output_type": "stream",
     "text": [
      "{'orders': [{'size': 'medium', 'price': 15.67, 'toppings': ['mushrooms', 'pepperoni', 'basil'], 'extra_cheese': False, 'delivery': True, 'client': {'name': 'Jane Doe', 'phone': None, 'email': 'janedoe@email.com'}}, {'size': 'small', 'price': 6.54, 'toppings': None, 'extra_cheese': True, 'delivery': False, 'client': {'name': 'Foo Jones', 'phone': '556-342-452', 'email': None}}]}\n",
      "{'orders': [{'size': 'medium', 'price': 15.67, 'toppings': ['mushrooms', 'pepperoni', 'basil'], 'extra_cheese': False, 'delivery': True}, {'size': 'small', 'price': 6.54, 'toppings': None, 'extra_cheese': True, 'delivery': False}]}\n"
     ]
    }
   ],
   "source": [
    "\n",
    "#lendo arquivos .json\n",
    "with open(\"orders.json\", \"r\") as file:\n",
    "    data = json.load(file)\n",
    "    \n",
    "print(data)\n",
    "\n",
    "#Como gravar dados em um arquivo JSON\n",
    "#excluir \"client\" em orders.json e salvar novo em \"orders_new.json\"\n",
    "for order in data[\"orders\"]:\n",
    "    del order[\"client\"]\n",
    "    \n",
    "with open(\"orders_new.json\", \"w\") as file:\n",
    "    json.dump(data, file, indent=4)\n",
    "    \n",
    "with open(\"orders_new.json\", \"r\") as file:\n",
    "    data = json.load(file)\n",
    "    \n",
    "print(data)"
   ]
  }
 ],
 "metadata": {
  "kernelspec": {
   "display_name": "Python 3",
   "language": "python",
   "name": "python3"
  },
  "language_info": {
   "codemirror_mode": {
    "name": "ipython",
    "version": 3
   },
   "file_extension": ".py",
   "mimetype": "text/x-python",
   "name": "python",
   "nbconvert_exporter": "python",
   "pygments_lexer": "ipython3",
   "version": "3.8.5"
  }
 },
 "nbformat": 4,
 "nbformat_minor": 4
}
