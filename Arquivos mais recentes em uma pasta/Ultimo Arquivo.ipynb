{
 "cells": [
  {
   "cell_type": "code",
   "execution_count": 25,
   "metadata": {},
   "outputs": [
    {
     "name": "stdout",
     "output_type": "stream",
     "text": [
      "Vendas - Dez (7).xlsx\n"
     ]
    }
   ],
   "source": [
    "import os\n",
    "\n",
    "caminho = \"C://Users/Python/Downloads\"\n",
    "lista_arquivos = os.listdir(caminho)\n",
    "\n",
    "lista_datas = []\n",
    "for arquivo in lista_arquivos:\n",
    "    # descobrir a data desse arquivo\n",
    "    if \".xlsx\" in arquivo:\n",
    "        data = os.path.getmtime(f\"{caminho}/{arquivo}\")\n",
    "        lista_datas.append((data, arquivo))\n",
    "    \n",
    "    # data inicial = 01/01/2021\n",
    "    # data1 = 02/01/2021 -> 10.000\n",
    "    # data2 = 15/02/2021 -> 150.000\n",
    "    \n",
    "lista_datas.sort(reverse=True)\n",
    "ultimo_arquivo = lista_datas[0]\n",
    "print(ultimo_arquivo[1])"
   ]
  },
  {
   "cell_type": "code",
   "execution_count": null,
   "metadata": {},
   "outputs": [],
   "source": []
  }
 ],
 "metadata": {
  "kernelspec": {
   "display_name": "Python 3",
   "language": "python",
   "name": "python3"
  },
  "language_info": {
   "codemirror_mode": {
    "name": "ipython",
    "version": 3
   },
   "file_extension": ".py",
   "mimetype": "text/x-python",
   "name": "python",
   "nbconvert_exporter": "python",
   "pygments_lexer": "ipython3",
   "version": "3.8.5"
  }
 },
 "nbformat": 4,
 "nbformat_minor": 5
}
